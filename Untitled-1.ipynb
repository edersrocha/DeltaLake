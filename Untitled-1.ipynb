{
 "cells": [
  {
   "cell_type": "code",
   "execution_count": 7,
   "id": "91887f30",
   "metadata": {},
   "outputs": [
    {
     "name": "stdout",
     "output_type": "stream",
     "text": [
      "root\n",
      " |-- identificacao_carga: struct (nullable = true)\n",
      " |    |-- id_lote: string (nullable = true)\n",
      " |    |-- tipo_carga: string (nullable = true)\n",
      " |    |-- usuario_carga: string (nullable = true)\n",
      " |-- auditoria_tecnica: struct (nullable = true)\n",
      " |    |-- dt_carga: string (nullable = true)\n",
      " |    |-- hora_carga: string (nullable = true)\n",
      " |    |-- dt_particao: string (nullable = true)\n",
      " |    |-- ano: string (nullable = true)\n",
      " |    |-- mes: string (nullable = true)\n",
      " |    |-- dia: string (nullable = true)\n",
      " |-- origem_dado: struct (nullable = true)\n",
      " |    |-- fonte_origem: string (nullable = true)\n",
      " |    |-- nome_arquivo: string (nullable = true)\n",
      " |    |-- ambiente_origem: string (nullable = true)\n",
      " |    |-- data_extracao_origem: string (nullable = true)\n",
      " |-- tecnica: struct (nullable = true)\n",
      " |    |-- versao_schema_origem: string (nullable = true)\n",
      " |    |-- valido: string (nullable = true)\n",
      " |    |-- motivo_invalidez: string (nullable = true)\n",
      " |    |-- hash_linha: string (nullable = true)\n",
      " |    |-- qtd_linhas_processadas: string (nullable = true)\n",
      "\n"
     ]
    },
    {
     "name": "stderr",
     "output_type": "stream",
     "text": [
      "[Stage 8:>                                                          (0 + 7) / 7]\r"
     ]
    },
    {
     "name": "stdout",
     "output_type": "stream",
     "text": [
      "+-------------------+---------------------------------------------+----------------------------------------+-------------------------------------+\n",
      "|identificacao_carga|auditoria_tecnica                            |origem_dado                             |tecnica                              |\n",
      "+-------------------+---------------------------------------------+----------------------------------------+-------------------------------------+\n",
      "|{123, A, user1}    |{2024-05-01, 10:00, 2024-05-01, 2024, 05, 01}|{sistema_x, dados.csv, prod, 2024-04-30}|{v1, true, , abc123, 100}            |\n",
      "|{456, B, user2}    |{2024-05-02, 11:00, 2024-05-02, 2024, 05, 02}|{sistema_y, dados2.csv, dev, 2024-05-01}|{v2, false, erro formato, def456, 80}|\n",
      "+-------------------+---------------------------------------------+----------------------------------------+-------------------------------------+\n",
      "\n"
     ]
    },
    {
     "name": "stderr",
     "output_type": "stream",
     "text": [
      "                                                                                \r"
     ]
    }
   ],
   "source": [
    "from pyspark.sql import SparkSession\n",
    "from pyspark.sql.types import StructType, StructField, StringType\n",
    "\n",
    "spark = SparkSession.builder.getOrCreate()\n",
    "\n",
    "# Campo estruturado: Identificação da Carga\n",
    "identificacao_carga_schema = StructType([\n",
    "    StructField(\"id_lote\", StringType(), True),\n",
    "    StructField(\"tipo_carga\", StringType(), True),\n",
    "    StructField(\"usuario_carga\", StringType(), True)\n",
    "])\n",
    "\n",
    "# Campo estruturado: Auditoria Técnica\n",
    "auditoria_tecnica_schema = StructType([\n",
    "    StructField(\"dt_carga\", StringType(), True),\n",
    "    StructField(\"hora_carga\", StringType(), True),\n",
    "    StructField(\"dt_particao\", StringType(), True),\n",
    "    StructField(\"ano\", StringType(), True),\n",
    "    StructField(\"mes\", StringType(), True),\n",
    "    StructField(\"dia\", StringType(), True)\n",
    "])\n",
    "\n",
    "# Campo estruturado: Origem do Dado\n",
    "origem_dado_schema = StructType([\n",
    "    StructField(\"fonte_origem\", StringType(), True),\n",
    "    StructField(\"nome_arquivo\", StringType(), True),\n",
    "    StructField(\"ambiente_origem\", StringType(), True),\n",
    "    StructField(\"data_extracao_origem\", StringType(), True)\n",
    "])\n",
    "\n",
    "# Campo estruturado: Schema e Compatibilidade, Validação, Identificação Técnica\n",
    "tecnica_schema = StructType([\n",
    "    StructField(\"versao_schema_origem\", StringType(), True),\n",
    "    StructField(\"valido\", StringType(), True),\n",
    "    StructField(\"motivo_invalidez\", StringType(), True),\n",
    "    StructField(\"hash_linha\", StringType(), True),\n",
    "    StructField(\"qtd_linhas_processadas\", StringType(), True)\n",
    "])\n",
    "\n",
    "# Schema completo\n",
    "schema = StructType([\n",
    "    StructField(\"identificacao_carga\", identificacao_carga_schema, True),\n",
    "    StructField(\"auditoria_tecnica\", auditoria_tecnica_schema, True),\n",
    "    StructField(\"origem_dado\", origem_dado_schema, True),\n",
    "    StructField(\"tecnica\", tecnica_schema, True)\n",
    "])\n",
    "\n",
    "# Dados de exemplo\n",
    "data = [\n",
    "    (\n",
    "        {\"id_lote\": \"123\", \"tipo_carga\": \"A\", \"usuario_carga\": \"user1\"},\n",
    "        {\"dt_carga\": \"2024-05-01\", \"hora_carga\": \"10:00\", \"dt_particao\": \"2024-05-01\", \"ano\": \"2024\", \"mes\": \"05\", \"dia\": \"01\"},\n",
    "        {\"fonte_origem\": \"sistema_x\", \"nome_arquivo\": \"dados.csv\", \"ambiente_origem\": \"prod\", \"data_extracao_origem\": \"2024-04-30\"},\n",
    "        {\"versao_schema_origem\": \"v1\", \"valido\": \"true\", \"motivo_invalidez\": \"\", \"hash_linha\": \"abc123\", \"qtd_linhas_processadas\": \"100\"}\n",
    "    ),\n",
    "    (\n",
    "        {\"id_lote\": \"456\", \"tipo_carga\": \"B\", \"usuario_carga\": \"user2\"},\n",
    "        {\"dt_carga\": \"2024-05-02\", \"hora_carga\": \"11:00\", \"dt_particao\": \"2024-05-02\", \"ano\": \"2024\", \"mes\": \"05\", \"dia\": \"02\"},\n",
    "        {\"fonte_origem\": \"sistema_y\", \"nome_arquivo\": \"dados2.csv\", \"ambiente_origem\": \"dev\", \"data_extracao_origem\": \"2024-05-01\"},\n",
    "        {\"versao_schema_origem\": \"v2\", \"valido\": \"false\", \"motivo_invalidez\": \"erro formato\", \"hash_linha\": \"def456\", \"qtd_linhas_processadas\": \"80\"}\n",
    "    )\n",
    "]\n",
    "\n",
    "# Criando o DataFrame\n",
    "df = spark.createDataFrame(data, schema=schema)\n",
    "df.printSchema()\n",
    "df.show(truncate=False)"
   ]
  }
 ],
 "metadata": {
  "kernelspec": {
   "display_name": ".venv",
   "language": "python",
   "name": "python3"
  },
  "language_info": {
   "codemirror_mode": {
    "name": "ipython",
    "version": 3
   },
   "file_extension": ".py",
   "mimetype": "text/x-python",
   "name": "python",
   "nbconvert_exporter": "python",
   "pygments_lexer": "ipython3",
   "version": "3.12.3"
  }
 },
 "nbformat": 4,
 "nbformat_minor": 5
}
